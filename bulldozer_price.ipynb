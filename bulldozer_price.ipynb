{
 "cells": [
  {
   "cell_type": "markdown",
   "id": "a7f54f72",
   "metadata": {},
   "source": [
    "# Prevendo as vendas das escavadeiras (Regressão)\n",
    "\n",
    "Nesse projeto vamos fazer um exemplo de machine learning para prever o preço de venda futura para uma escavadeira."
   ]
  },
  {
   "cell_type": "markdown",
   "id": "09b1a8d2",
   "metadata": {},
   "source": [
    "## 1. Definição do Problema\n",
    "\n",
    "Como podemos prever o preço de venda futura para uma escavadeira, dada suas características?"
   ]
  },
  {
   "cell_type": "markdown",
   "id": "557a2e2f",
   "metadata": {},
   "source": [
    "## 2. Data\n",
    "\n",
    "Os dados são baixados"
   ]
  },
  {
   "cell_type": "markdown",
   "id": "19e6d2ef",
   "metadata": {},
   "source": [
    "## 3. Avaliação"
   ]
  },
  {
   "cell_type": "markdown",
   "id": "1c48634c",
   "metadata": {},
   "source": [
    "# 4. Características"
   ]
  }
 ],
 "metadata": {
  "language_info": {
   "name": "python"
  }
 },
 "nbformat": 4,
 "nbformat_minor": 5
}
